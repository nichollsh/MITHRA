{
 "cells": [
  {
   "cell_type": "code",
   "execution_count": 1,
   "metadata": {},
   "outputs": [],
   "source": [
    "import numpy as np\n",
    "import matplotlib as mpl\n",
    "import matplotlib.pyplot as plt \n",
    "from mpl_toolkits.axes_grid1 import make_axes_locatable"
   ]
  },
  {
   "cell_type": "code",
   "execution_count": 2,
   "metadata": {},
   "outputs": [
    {
     "ename": "ImportError",
     "evalue": "cannot import name 'plot' from 'MITHRA' (/Users/nichollsh/Projects/MITHRA/MITHRA/__init__.py)",
     "output_type": "error",
     "traceback": [
      "\u001b[0;31m---------------------------------------------------------------------------\u001b[0m",
      "\u001b[0;31mImportError\u001b[0m                               Traceback (most recent call last)",
      "Cell \u001b[0;32mIn[2], line 2\u001b[0m\n\u001b[1;32m      1\u001b[0m \u001b[38;5;28;01mfrom\u001b[39;00m \u001b[38;5;21;01mMITHRA\u001b[39;00m \u001b[38;5;28;01mimport\u001b[39;00m \u001b[38;5;241m*\u001b[39m\n\u001b[0;32m----> 2\u001b[0m \u001b[38;5;28;01mfrom\u001b[39;00m \u001b[38;5;21;01mMITHRA\u001b[39;00m \u001b[38;5;28;01mimport\u001b[39;00m plot \u001b[38;5;28;01mas\u001b[39;00m plot\n",
      "\u001b[0;31mImportError\u001b[0m: cannot import name 'plot' from 'MITHRA' (/Users/nichollsh/Projects/MITHRA/MITHRA/__init__.py)"
     ]
    }
   ],
   "source": [
    "from MITHRA import *\n",
    "from MITHRA import plot as plot"
   ]
  },
  {
   "cell_type": "code",
   "execution_count": null,
   "metadata": {},
   "outputs": [],
   "source": [
    "# import importlib\n",
    "# importlib.reload(plot)\n",
    "# importlib.reload(spec)\n",
    "# importlib.reload(tracks)"
   ]
  },
  {
   "cell_type": "code",
   "execution_count": null,
   "metadata": {},
   "outputs": [],
   "source": [
    "tr = tracks.read_bhac()"
   ]
  },
  {
   "cell_type": "code",
   "execution_count": null,
   "metadata": {},
   "outputs": [],
   "source": [
    "out = tracks.get_params_bhac(tr, 1.0, 1.0e7, [\"Teff\",\"logg\"])\n",
    "wl, fl = spec.get_spec_from_npy(out[0], out[1])\n",
    "\n",
    "%matplotlib widget\n",
    "plt.close(\"all\")\n",
    "\n",
    "fig,ax = plt.subplots()\n",
    "\n",
    "ax.plot(wl,fl, lw=0.8, color='black')\n",
    "\n",
    "ax.set(xscale=\"log\", yscale=\"log\")\n",
    "ax.set(xlabel=\"Wavelength [nm]\", ylabel=\"Spectral flux [erg s-1 cm-2 nm-1]\")\n",
    "plt.show()    "
   ]
  },
  {
   "cell_type": "code",
   "execution_count": null,
   "metadata": {},
   "outputs": [],
   "source": [
    "itp = spec.create_interp(num_wl=80, teff_lims=(2e3, 6e3))"
   ]
  },
  {
   "cell_type": "code",
   "execution_count": null,
   "metadata": {},
   "outputs": [],
   "source": [
    "print(np.shape(itp[0]))"
   ]
  },
  {
   "cell_type": "code",
   "execution_count": null,
   "metadata": {},
   "outputs": [],
   "source": [
    "spec.write_dataset(spec.create_dataset(itp))"
   ]
  },
  {
   "cell_type": "code",
   "execution_count": null,
   "metadata": {},
   "outputs": [],
   "source": [
    "v,x,y,z = itp[0],itp[1],itp[2],itp[3]\n",
    "sh = np.shape(v)"
   ]
  },
  {
   "cell_type": "code",
   "execution_count": null,
   "metadata": {},
   "outputs": [],
   "source": [
    "fig,ax = plt.subplots(1,1)\n",
    "\n",
    "i = 2\n",
    "j = 1\n",
    "print(x[i,j,0],y[i,j,0])\n",
    "\n",
    "wl, fl = spec.get_spec_from_npy(x[i,j,0], y[i,j,0])\n",
    "ax.plot(wl,fl,label=\"file\", lw=1, color='tab:pink')\n",
    "\n",
    "ax.plot(z[i,j,:],v[i,j,:],label=\"interp\",lw=1, color='k')\n",
    "\n",
    "ax.set(xscale=\"log\",yscale=\"log\", xlabel=\"Wavelength [nm]\", ylabel=\"Spectral flux [erg s-1 cm-2 nm-1]\")\n",
    "ax.legend()\n",
    "plt.show()"
   ]
  },
  {
   "cell_type": "code",
   "execution_count": null,
   "metadata": {},
   "outputs": [],
   "source": [
    "fig,ax = plt.subplots(1,1)\n",
    "\n",
    "tarr = np.logspace(7,12,20)\n",
    "\n",
    "mass = 1.0\n",
    "\n",
    "cmap= plt.cm.Spectral\n",
    "norm = mpl.colors.LogNorm(vmin=tarr[0], vmax=tarr[-1]) \n",
    "sm = mpl.cm.ScalarMappable(cmap=cmap, norm=norm)    \n",
    "sm.set_array([])  \n",
    "\n",
    "for time in tarr:\n",
    "\n",
    "    out = tracks.get_params_bhac(tr, mass, time, [\"Teff\",\"logg\"])\n",
    "    \n",
    "    w,f = spec.get_spec_from_interp((v,x,y,z),out[0],out[1])\n",
    "    ax.plot(w,f, color=cmap(norm(time)), alpha=0.5, lw=0.5)\n",
    "\n",
    "divider = make_axes_locatable(ax)\n",
    "cax = divider.append_axes(\"right\", size=\"5%\", pad=0.05)\n",
    "cbar = fig.colorbar(sm, cax=cax, orientation='vertical', label='Time [yr]')  \n",
    "\n",
    "ax.set(xscale=\"log\", yscale=\"log\")\n",
    "ax.set(xlabel=\"Wavelength [nm]\", ylabel=\"Spectral flux [erg s-1 cm-2 nm-1]\")\n",
    "ax.set_title(\"Mass = %g\"%mass)\n",
    "\n",
    "plt.show()"
   ]
  },
  {
   "cell_type": "code",
   "execution_count": null,
   "metadata": {},
   "outputs": [],
   "source": []
  },
  {
   "cell_type": "code",
   "execution_count": null,
   "metadata": {},
   "outputs": [],
   "source": []
  }
 ],
 "metadata": {
  "kernelspec": {
   "display_name": "proteus",
   "language": "python",
   "name": "python3"
  },
  "language_info": {
   "codemirror_mode": {
    "name": "ipython",
    "version": 3
   },
   "file_extension": ".py",
   "mimetype": "text/x-python",
   "name": "python",
   "nbconvert_exporter": "python",
   "pygments_lexer": "ipython3",
   "version": "3.12.2"
  }
 },
 "nbformat": 4,
 "nbformat_minor": 2
}
